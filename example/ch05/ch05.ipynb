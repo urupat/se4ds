{
 "cells": [
  {
   "attachments": {},
   "cell_type": "markdown",
   "metadata": {},
   "source": [
    "# 5章　エラー、ログ、デバッグ"
   ]
  },
  {
   "cell_type": "markdown",
   "metadata": {},
   "source": [
    "### 5.1.1　Pythonのエラーメッセージ"
   ]
  },
  {
   "cell_type": "code",
   "execution_count": null,
   "metadata": {},
   "outputs": [],
   "source": [
    "# defの行に引数dataを書き忘れたもの\n",
    "from scipy.stats import linregress\n",
    "\n",
    "def fit_trendline(year_timestamps):\n",
    "    result = linregress(year_timestamps, data)\n",
    "    slope = round(result.slope, 3)\n",
    "    r_squared = round(result.rvalue**2, 3)\n",
    "    return slope, r_squared"
   ]
  },
  {
   "cell_type": "code",
   "execution_count": null,
   "metadata": {},
   "outputs": [],
   "source": [
    "women_in_parliament=[9.02, 9.01, 8.84, 8.84, 8.84]\n",
    "timestamps= [2000, 2001, 2002, 2003, 2004]"
   ]
  },
  {
   "cell_type": "code",
   "execution_count": null,
   "metadata": {},
   "outputs": [],
   "source": [
    "fit_trendline(timestamps)"
   ]
  },
  {
   "cell_type": "code",
   "execution_count": null,
   "metadata": {},
   "outputs": [],
   "source": [
    "# fit_trendlineのdefを修正\n",
    "from scipy.stats import linregress\n",
    "\n",
    "def fit_trendline(year_timestamps, data):\n",
    "    result = linregress(year_timestamps, data)\n",
    "    slope = round(result.slope, 3)\n",
    "    r_squared = round(result.rvalue**2, 3)\n",
    "    return slope, r_squared"
   ]
  },
  {
   "cell_type": "code",
   "execution_count": null,
   "metadata": {},
   "outputs": [],
   "source": [
    "# うまく結果が出る\n",
    "fit_trendline(timestamps, women_in_parliament)"
   ]
  },
  {
   "cell_type": "code",
   "execution_count": null,
   "metadata": {},
   "outputs": [],
   "source": [
    "# timespampsの要素を文字列にして実行 -> エラーが起こる\n",
    "women_in_parliament=[9.02, 9.01, 8.84, 8.84, 8.84]\n",
    "timestamps= [\"2000\", \"2001\", \"2002\", \"2003\", \"2004\", \"2005\"]\n",
    "fit_trendline(timestamps, women_in_parliament)"
   ]
  },
  {
   "cell_type": "markdown",
   "metadata": {},
   "source": [
    "UFuncTypeErrorはTypeErrorの一種なので、TypeErrorが起こったときの処理を加える"
   ]
  },
  {
   "cell_type": "code",
   "execution_count": null,
   "metadata": {},
   "outputs": [],
   "source": [
    "from scipy.stats import linregress\n",
    "\n",
    "def fit_trendline(year_timestamps, data):\n",
    "    try:\n",
    "        result = linregress(year_timestamps, data)\n",
    "    except TypeError:\n",
    "        print(\"*ERROR*: Both lists must contain only float or integers\")\n",
    "    else:\n",
    "        slope = round(result.slope, 3)\n",
    "        r_squared = round(result.rvalue**2, 3)\n",
    "        return slope, r_squared"
   ]
  },
  {
   "cell_type": "code",
   "execution_count": null,
   "metadata": {},
   "outputs": [],
   "source": [
    "women_in_parliament=[9.02, 9.01, 8.84, 8.84, 8.84]\n",
    "timestamps= [\"2000\", \"2001\", \"2002\", \"2003\", \"2004\"]\n",
    "fit_trendline(timestamps, women_in_parliament)"
   ]
  },
  {
   "cell_type": "code",
   "execution_count": null,
   "metadata": {},
   "outputs": [],
   "source": [
    "# エラーが起こってもデフォルト値を返す\n",
    "def fit_trendline(year_timestamps, data):\n",
    "    try:\n",
    "        result = linregress(year_timestamps, data)\n",
    "    except TypeError:\n",
    "        print(\"*ERROR*: Both lists must contain only float or integers\")\n",
    "        return 0.0, 0.0\n",
    "    else:\n",
    "        slope = round(result.slope, 3)\n",
    "        r_squared = round(result.rvalue**2, 3)\n",
    "        return slope, r_squared"
   ]
  },
  {
   "cell_type": "code",
   "execution_count": null,
   "metadata": {},
   "outputs": [],
   "source": [
    "fit_trendline(timestamps, women_in_parliament)"
   ]
  },
  {
   "cell_type": "markdown",
   "metadata": {},
   "source": [
    "### 5.1.3　エラーの生成"
   ]
  },
  {
   "cell_type": "code",
   "execution_count": null,
   "metadata": {},
   "outputs": [],
   "source": [
    "from scipy.stats import linregress\n",
    "\n",
    "def fit_trendline(year_timestamps, data):\n",
    "    if not year_timestamps or data:\n",
    "        raise ValueError(\"Timestamps and data cannot be empty lists\")\n",
    "    result = linregress(year_timestamps, data)\n",
    "    slope = round(result.slope, 3)\n",
    "    r_squared = round(result.rvalue**2, 3)\n",
    "    return slope, r_squared"
   ]
  },
  {
   "cell_type": "code",
   "execution_count": null,
   "metadata": {},
   "outputs": [],
   "source": [
    "women_in_parliament=[9.02, 9.01, 8.84, 8.84, 8.84]\n",
    "timestamps= [\"2000\", \"2001\", \"2002\", \"2003\", \"2004\", \"2005\"]\n",
    "fit_trendline(timestamps, women_in_parliament)"
   ]
  },
  {
   "attachments": {},
   "cell_type": "markdown",
   "metadata": {},
   "source": [
    "## 5.2　ロギング"
   ]
  },
  {
   "attachments": {},
   "cell_type": "markdown",
   "metadata": {},
   "source": [
    "### 5.2.2 ロギングの設定"
   ]
  },
  {
   "cell_type": "code",
   "execution_count": null,
   "metadata": {},
   "outputs": [],
   "source": [
    "import logging"
   ]
  },
  {
   "cell_type": "code",
   "execution_count": null,
   "metadata": {},
   "outputs": [],
   "source": [
    "logging.basicConfig(level=logging.DEBUG)"
   ]
  },
  {
   "cell_type": "code",
   "execution_count": null,
   "metadata": {},
   "outputs": [],
   "source": [
    "logging.basicConfig(filename=\"chapter_05_logs.log\", level=logging.DEBUG)"
   ]
  },
  {
   "cell_type": "code",
   "execution_count": null,
   "metadata": {},
   "outputs": [],
   "source": [
    "from scipy.stats import linregress\n",
    "\n",
    "def fit_trendline(year_timestamps, data):\n",
    "    logging.info(\"Running fit_trendline function\")\n",
    "    result = linregress(year_timestamps, data)\n",
    "    slope = round(result.slope, 3)\n",
    "    r_squared = round(result.rvalue**2, 3)\n",
    "    logging.info(f\"Completed analysis. Slope of the trendline is {slope}.\")\n",
    "    return slope, r_squared"
   ]
  },
  {
   "cell_type": "code",
   "execution_count": null,
   "metadata": {},
   "outputs": [],
   "source": [
    "women_in_parliament=[9.02, 9.01, 8.84, 8.84, 8.84]\n",
    "timestamps= [2000, 2001, 2002, 2003, 2004]\n",
    "fit_trendline(timestamps, women_in_parliament)"
   ]
  },
  {
   "cell_type": "code",
   "execution_count": null,
   "metadata": {},
   "outputs": [],
   "source": [
    "# タイムスタンプ\n",
    "# ch05_logging1_timestamp.pyに全体がある\n",
    "logging.basicConfig(filename=\"ch05_logs.log\",\n",
    "                    level=logging.DEBUG,\n",
    "                    filemode=\"w\",  # 以前の内容を上書きする                  \n",
    "                    format='%(asctime)s %(message)s') # ①\n",
    "\n",
    "def fit_trendline(year_timestamps, data):\n",
    "    logging.info(\"Running fit_trendline function\")\n",
    "    result = linregress(year_timestamps, data)\n",
    "    slope = round(result.slope, 3)\n",
    "    r_squared = round(result.rvalue**2, 3)\n",
    "    logging.info(f\"Completed analysis. Slope of the trendline is {slope}.\")\n",
    "    return slope, r_squared"
   ]
  },
  {
   "cell_type": "code",
   "execution_count": null,
   "metadata": {},
   "outputs": [],
   "source": [
    "!python3 ch05_logging1_timestamp.py   # 上記の内容を含むファイルを実行\n",
    "!cat ch05_logs.log    # ログファイルの内容を表示"
   ]
  },
  {
   "cell_type": "code",
   "execution_count": null,
   "metadata": {},
   "outputs": [],
   "source": [
    "# エラーメッセージをログに記録\n",
    "# ch05_logging2_errmes.pyに全体がある\n",
    "def fit_trendline(year_timestamps, data):\n",
    "    logging.info(\"Running fit_trendline function\")\n",
    "    try:\n",
    "        result = linregress(year_timestamps, data)\n",
    "    except TypeError as e:\n",
    "        logging.error(\"Both lists must contain floats or integers.\") # ❶\n",
    "        logging.exception(e) # ❷\n",
    "    else:\n",
    "        slope = round(result.slope, 3)\n",
    "        r_squared = round(result.rvalue**2, 3)\n",
    "        logging.info(f\"Completed analysis. Slope of the trendline is {slope}.\")\n",
    "        return slope, r_squared"
   ]
  },
  {
   "cell_type": "code",
   "execution_count": null,
   "metadata": {},
   "outputs": [],
   "source": [
    "!python3 ch05_logging2_errmes.py   # 上記の関数を含むファイルを実行\n",
    "!cat ch05_logs.log    # ログファイルの内容を表示"
   ]
  },
  {
   "attachments": {},
   "cell_type": "markdown",
   "metadata": {},
   "source": [
    "## 5.3　デバッグ"
   ]
  },
  {
   "cell_type": "code",
   "execution_count": null,
   "metadata": {},
   "outputs": [],
   "source": [
    "# バグのあるコード（ch05_debug1.py）\n",
    "def weighted_mean(num_list, weights):\n",
    "    running_total = 0\n",
    "    for i in range(len(num_list)):\n",
    "        running_total += num_list[i] * weights[0]  # ←バグ\n",
    "    return running_total/sum(weights)"
   ]
  },
  {
   "cell_type": "code",
   "execution_count": null,
   "metadata": {},
   "outputs": [],
   "source": [
    "weighted_mean([1, 6, 8], [1, 3, 2])"
   ]
  },
  {
   "cell_type": "code",
   "execution_count": null,
   "metadata": {},
   "outputs": [],
   "source": [
    "!python3 ch05_debug1.py"
   ]
  },
  {
   "cell_type": "code",
   "execution_count": null,
   "metadata": {},
   "outputs": [],
   "source": [
    "# print文を挿入（ch05_debug2_print.py）\n",
    "def weighted_mean(num_list, weights):\n",
    "    running_total = 0\n",
    "    for i in range(len(num_list)):\n",
    "        running_total += num_list[i] * weights[0]\n",
    "        print(f\"The running total at step {i} is {running_total}\")\n",
    "    return running_total / sum(weights)"
   ]
  },
  {
   "cell_type": "code",
   "execution_count": null,
   "metadata": {},
   "outputs": [],
   "source": [
    "weighted_mean([1, 6, 8], [1, 3, 2])"
   ]
  },
  {
   "cell_type": "code",
   "execution_count": null,
   "metadata": {},
   "outputs": [],
   "source": [
    "!python3 ch05_debug2_print.py"
   ]
  },
  {
   "cell_type": "code",
   "execution_count": null,
   "metadata": {},
   "outputs": [],
   "source": [
    "# ログに記録（ch05_debug3_log.py）\n",
    "import logging\n",
    "\n",
    "logging.basicConfig(filename=\"ch05_logs.log\",\n",
    "                    level=logging.DEBUG,\n",
    "                    filemode='w',\n",
    "                    format='%(asctime)s %(message)s')\n",
    "\n",
    "def weighted_mean(num_list, weights):\n",
    "    running_total = 0\n",
    "    for i in range(len(num_list)):\n",
    "        running_total += num_list[i] * weights[0]\n",
    "        logging.debug(f\"The running total at step {i} is {running_total}\")\n",
    "    return running_total/sum(weights)\n"
   ]
  },
  {
   "cell_type": "code",
   "execution_count": null,
   "metadata": {},
   "outputs": [],
   "source": [
    "print(weighted_mean([1, 6, 8], [1, 3, 2]))"
   ]
  },
  {
   "cell_type": "code",
   "execution_count": null,
   "metadata": {},
   "outputs": [],
   "source": [
    "!cat ch05_logs.log"
   ]
  },
  {
   "cell_type": "code",
   "execution_count": null,
   "metadata": {},
   "outputs": [],
   "source": [
    "numbers = [10, 20, 30, 40, 50]\n",
    "weights = [0.1, 0.2, 0.3, 0.2, 0.2]\n",
    "\n",
    "weighted_mean(numbers, weights)"
   ]
  },
  {
   "cell_type": "code",
   "execution_count": null,
   "metadata": {},
   "outputs": [],
   "source": [
    "# 全体は \n",
    "import logging\n",
    "\n",
    "logging.basicConfig(\n",
    "    filename=\"ch05_logs.log\", level=logging.DEBUG, format=\"%(asctime)s %(message)s\"\n",
    ")\n",
    "\n",
    "\n",
    "def weighted_mean(num_list, weights):\n",
    "    running_total = 0\n",
    "    for i in range(len(num_list)):\n",
    "        running_total += num_list[i] * weights[0]\n",
    "        logging.debug(f\"The running total at step {i} is {running_total}\")\n",
    "    return running_total / len(num_list)"
   ]
  },
  {
   "cell_type": "code",
   "execution_count": null,
   "metadata": {},
   "outputs": [],
   "source": [
    "numbers = [10, 20, 30, 40, 50]\n",
    "weights = [0.1, 0.2, 0.3, 0.2, 0.2]\n",
    "\n",
    "weighted_mean(numbers, weights)"
   ]
  },
  {
   "cell_type": "markdown",
   "metadata": {},
   "source": [
    "!cat ch05_logs.log"
   ]
  },
  {
   "cell_type": "markdown",
   "metadata": {},
   "source": [
    "### 5.3.2　デバッグ用ツール"
   ]
  },
  {
   "cell_type": "markdown",
   "metadata": {},
   "source": [
    "別ファイル（[ch05_debugger.ipynb](http://localhost:8888/notebooks/ch05/ch05_debugger.ipynb)）にあります"
   ]
  },
  {
   "cell_type": "code",
   "execution_count": null,
   "metadata": {},
   "outputs": [],
   "source": []
  }
 ],
 "metadata": {
  "kernelspec": {
   "display_name": "Python 3 (ipykernel)",
   "language": "python",
   "name": "python3"
  },
  "language_info": {
   "codemirror_mode": {
    "name": "ipython",
    "version": 3
   },
   "file_extension": ".py",
   "mimetype": "text/x-python",
   "name": "python",
   "nbconvert_exporter": "python",
   "pygments_lexer": "ipython3",
   "version": "3.13.7"
  }
 },
 "nbformat": 4,
 "nbformat_minor": 4
}
