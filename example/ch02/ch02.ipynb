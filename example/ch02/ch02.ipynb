{
 "cells": [
  {
   "cell_type": "markdown",
   "metadata": {},
   "source": [
    "# 2章 パフォーマンスの分析"
   ]
  },
  {
   "cell_type": "markdown",
   "metadata": {},
   "source": [
    "## 2.2 実行時間の計測"
   ]
  },
  {
   "cell_type": "code",
   "execution_count": null,
   "metadata": {},
   "outputs": [],
   "source": [
    "def slow_way_to_calculate_mode(list_of_numbers):  # 最頻値を計算する遅い方法\n",
    "    result_dict = {}\n",
    "    for i in list_of_numbers:\n",
    "        if i not in result_dict:\n",
    "            result_dict[i] = 1\n",
    "        else:\n",
    "            result_dict[i] += 1\n",
    "\n",
    "    mode_vals = []\n",
    "    max_frequency = max(result_dict.values())\n",
    "    for key, value in result_dict.items():\n",
    "        if value == max_frequency:\n",
    "            mode_vals.append(key)\n",
    "\n",
    "    return mode_vals"
   ]
  },
  {
   "cell_type": "code",
   "execution_count": null,
   "metadata": {},
   "outputs": [],
   "source": [
    "slow_way_to_calculate_mode([4, 5, 5, 6])"
   ]
  },
  {
   "cell_type": "code",
   "execution_count": null,
   "metadata": {},
   "outputs": [],
   "source": [
    "#  「pip install numpy」が必要\n",
    "import numpy as np\n",
    "\n",
    "random_integers = np.random.randint(1, 1_000_000, 1_000_000)"
   ]
  },
  {
   "cell_type": "code",
   "execution_count": null,
   "metadata": {},
   "outputs": [],
   "source": [
    "import time\n",
    "\n",
    "start = time.time()\n",
    "slow_way_to_calculate_mode(random_integers)\n",
    "end = time.time()\n",
    "\n",
    "print(end - start)"
   ]
  },
  {
   "cell_type": "code",
   "execution_count": null,
   "metadata": {},
   "outputs": [],
   "source": [
    "%%timeit\n",
    "slow_way_to_calculate_mode(random_integers)"
   ]
  },
  {
   "cell_type": "code",
   "execution_count": null,
   "metadata": {},
   "outputs": [],
   "source": [
    "# time_mode.py\n",
    "import numpy as np\n",
    "import timeit\n",
    "\n",
    "random_integers = np.random.randint(1, 100_000, 1000)\n",
    "\n",
    "\n",
    "def slow_way_to_calculate_mode(list_of_numbers):\n",
    "    result_dict = {}\n",
    "    for i in list_of_numbers:\n",
    "        if i not in result_dict:\n",
    "            result_dict[i] = 1\n",
    "        else:\n",
    "            result_dict[i] += 1\n",
    "    mode = max(result_dict, key=result_dict.get)\n",
    "    if result_dict[mode] == 1:\n",
    "        return min(list_of_numbers)\n",
    "    else:\n",
    "        return mode\n",
    "\n",
    "\n",
    "mode_timer = timeit.Timer(\n",
    "    stmt=\"slow_way_to_calculate_mode(random_integers)\",\n",
    "    setup=\"from __main__ import slow_way_to_calculate_mode, random_integers\",\n",
    ")\n",
    "\n",
    "time_taken = mode_timer.timeit(number=10)\n",
    "\n",
    "print(f\"Execution time: {time_taken} seconds\")"
   ]
  },
  {
   "cell_type": "markdown",
   "metadata": {},
   "source": [
    "#### ●最頻値を計算する別の方法"
   ]
  },
  {
   "cell_type": "code",
   "execution_count": null,
   "metadata": {},
   "outputs": [],
   "source": [
    "from collections import Counter\n",
    "\n",
    "def mode_using_counter(list_of_numbers):\n",
    "    c = Counter(list_of_numbers)\n",
    "    return c.most_common(1)[0][0]"
   ]
  },
  {
   "cell_type": "code",
   "execution_count": null,
   "metadata": {},
   "outputs": [],
   "source": [
    "%%timeit\n",
    "mode_using_counter(random_integers)"
   ]
  },
  {
   "cell_type": "markdown",
   "metadata": {},
   "source": [
    "## 2.3　プロファイリング\n",
    "\n",
    "### 2.3.1 `cProfile`"
   ]
  },
  {
   "cell_type": "code",
   "execution_count": null,
   "metadata": {},
   "outputs": [],
   "source": [
    "from collections import Counter\n",
    "import numpy as np"
   ]
  },
  {
   "cell_type": "code",
   "execution_count": null,
   "metadata": {},
   "outputs": [],
   "source": [
    "def mode_using_counter(n_integers):\n",
    "    random_integers = np.random.randint(1, 100_000, n_integers)\n",
    "    c = Counter(random_integers)\n",
    "    return c.most_common(1)[0][0]"
   ]
  },
  {
   "cell_type": "code",
   "execution_count": null,
   "metadata": {},
   "outputs": [],
   "source": [
    "mode_using_counter(10_000_000)"
   ]
  },
  {
   "cell_type": "code",
   "execution_count": null,
   "metadata": {},
   "outputs": [],
   "source": [
    "%%prun\n",
    "mode_using_counter(10_000_000)"
   ]
  },
  {
   "cell_type": "markdown",
   "metadata": {},
   "source": [
    "##### メモ： 「`pip install snakeviz`」を実行するとsnakevizをインストールできます"
   ]
  },
  {
   "cell_type": "code",
   "execution_count": null,
   "metadata": {},
   "outputs": [],
   "source": [
    "%load_ext snakeviz"
   ]
  },
  {
   "cell_type": "code",
   "execution_count": null,
   "metadata": {},
   "outputs": [],
   "source": [
    "%%snakeviz\n",
    "mode_using_counter(10000)"
   ]
  },
  {
   "cell_type": "markdown",
   "metadata": {},
   "source": [
    "### 2.3.2 `line_profiler`"
   ]
  },
  {
   "cell_type": "markdown",
   "metadata": {},
   "source": [
    "##### メモ： 「`pip install line_profiler`」でインストール"
   ]
  },
  {
   "cell_type": "code",
   "execution_count": null,
   "metadata": {},
   "outputs": [],
   "source": [
    "%load_ext line_profiler"
   ]
  },
  {
   "cell_type": "code",
   "execution_count": null,
   "metadata": {},
   "outputs": [],
   "source": [
    "%lprun -f mode_using_counter mode_using_counter(10_000_000)"
   ]
  },
  {
   "cell_type": "markdown",
   "metadata": {},
   "source": [
    "### 2.3.3 Memrayによるメモリプロファイリング"
   ]
  },
  {
   "cell_type": "markdown",
   "metadata": {},
   "source": [
    "##### メモ： 「`pip install memray`」でインストール"
   ]
  },
  {
   "cell_type": "code",
   "execution_count": null,
   "metadata": {},
   "outputs": [],
   "source": [
    "# mode_using_counter.py\n",
    "import numpy as np\n",
    "from collections import Counter\n",
    "\n",
    "def mode_using_counter(n_integers):\n",
    "    random_integers = np.random.randint(1, 100_000, n_integers)\n",
    "    c = Counter(random_integers)\n",
    "    return c.most_common(1)[0][0]\n",
    "\n",
    "if __name__ == '__main__':\n",
    "    print(mode_using_counter(10_000_000))"
   ]
  },
  {
   "cell_type": "code",
   "execution_count": null,
   "metadata": {
    "scrolled": true
   },
   "outputs": [],
   "source": [
    "!memray run mode_using_counter.py"
   ]
  },
  {
   "cell_type": "code",
   "execution_count": null,
   "metadata": {},
   "outputs": [],
   "source": [
    "!memray flamegraph memray-mode_using_counter.py.8331.bin"
   ]
  },
  {
   "cell_type": "markdown",
   "metadata": {},
   "source": [
    "メモ： 「8331」の部分は変えて実行してください"
   ]
  },
  {
   "cell_type": "code",
   "execution_count": null,
   "metadata": {},
   "outputs": [],
   "source": [
    "!open memray-flamegraph-mode_using_counter.py.8331.html"
   ]
  },
  {
   "cell_type": "code",
   "execution_count": null,
   "metadata": {},
   "outputs": [],
   "source": [
    "%load_ext memray"
   ]
  },
  {
   "cell_type": "code",
   "execution_count": null,
   "metadata": {},
   "outputs": [],
   "source": [
    "%%memray_flamegraph --trace-python-allocators --leaks\n",
    "def a():\n",
    "    return \"a\" * 10_000\n",
    "\n",
    "def bc():\n",
    "    return \"bc\" * 10_000\n",
    "\n",
    "x = a() + bc()"
   ]
  },
  {
   "cell_type": "markdown",
   "metadata": {},
   "source": [
    "## 2.4 時間計算量"
   ]
  },
  {
   "cell_type": "code",
   "execution_count": null,
   "metadata": {},
   "outputs": [],
   "source": [
    "def weighted_mean(list_of_numbers, weights):\n",
    "    running_total = 0\n",
    "    for i in range(len(list_of_numbers)):\n",
    "        running_total += (list_of_numbers[i] * weights[i])\n",
    "    return (running_total/sum(weights))"
   ]
  },
  {
   "cell_type": "code",
   "execution_count": null,
   "metadata": {},
   "outputs": [],
   "source": [
    "def covariance_fast(X, Y):\n",
    "    avg_X = sum(X) / len(X)\n",
    "    avg_Y = sum(Y) / len(Y)\n",
    "\n",
    "    result = 0\n",
    "    for i in range(len(X)):\n",
    "        result += (X[i] - avg_X) * (Y[i] - avg_Y)\n",
    "\n",
    "    return result / len(X)"
   ]
  },
  {
   "cell_type": "code",
   "execution_count": null,
   "metadata": {},
   "outputs": [],
   "source": [
    "X = np.random.randint(1, 1000, 1000)\n",
    "Y = np.random.randint(1, 1000, 1000)"
   ]
  },
  {
   "cell_type": "code",
   "execution_count": null,
   "metadata": {},
   "outputs": [],
   "source": [
    "%%timeit\n",
    "covariance_fast(X, Y)"
   ]
  },
  {
   "cell_type": "code",
   "execution_count": null,
   "metadata": {},
   "outputs": [],
   "source": [
    "def covariance(X, Y):\n",
    "    cov_sum = 0\n",
    "    for i in range(len(X)):\n",
    "        for j in range(len(Y)):\n",
    "            cov_sum += 0.5 * (X[i] - X[j]) * (Y[i] - Y[j])\n",
    "    return cov_sum / (len(X) ** 2)"
   ]
  },
  {
   "cell_type": "code",
   "execution_count": null,
   "metadata": {},
   "outputs": [],
   "source": [
    "%%timeit\n",
    "covariance(X, Y)"
   ]
  },
  {
   "cell_type": "markdown",
   "metadata": {},
   "source": [
    "## 図2.3（英語版）を生成するコード"
   ]
  },
  {
   "cell_type": "markdown",
   "metadata": {},
   "source": [
    "##### メモ： 「`pip install matplotlib`」でインストール"
   ]
  },
  {
   "cell_type": "code",
   "execution_count": null,
   "metadata": {},
   "outputs": [],
   "source": [
    "import matplotlib.pyplot as plt\n",
    "import numpy as np"
   ]
  },
  {
   "cell_type": "code",
   "execution_count": null,
   "metadata": {},
   "outputs": [],
   "source": [
    "n = np.linspace(1, 10, 1000)\n",
    "line_names = [\n",
    "    \"Constant\",\n",
    "    \"Linear\",\n",
    "    \"Quadratic\",\n",
    "    \"Exponential\",\n",
    "    \"Logarithmic\",\n",
    "    \"N log N\",\n",
    "]\n",
    "\n",
    "colors = [\"black\", \"orange\", \"green\", \"blue\", \"red\", [0.5, 0.5, 0.5]]\n",
    "linestyles = [\"solid\", \"solid\", (0, (5, 5)), \"dotted\", \"dashdot\", (0, (5, 1))]\n",
    "big_o = [np.ones(n.shape), n, n**2, 2**n, np.log(n), n * (np.log(n))]\n",
    "\n",
    "fig, ax = plt.subplots()\n",
    "fig.set_facecolor(\"white\")\n",
    "\n",
    "ax.set_ylim(0, 50)\n",
    "ax.set_xlim(1, 10)\n",
    "for i in range(len(big_o)):\n",
    "    ax.plot(n, big_o[i], label=line_names[i], color=colors[i], linestyle=linestyles[i])\n",
    "ax.set_ylabel(\"Relative Runtime\")\n",
    "ax.set_xlabel(\"Input Size\")\n",
    "ax.legend()\n",
    "fig.savefig(\"seds_0202_v3.png\", bbox_inches=\"tight\")"
   ]
  }
 ],
 "metadata": {
  "kernelspec": {
   "display_name": "Python 3 (ipykernel)",
   "language": "python",
   "name": "python3"
  },
  "language_info": {
   "codemirror_mode": {
    "name": "ipython",
    "version": 3
   },
   "file_extension": ".py",
   "mimetype": "text/x-python",
   "name": "python",
   "nbconvert_exporter": "python",
   "pygments_lexer": "ipython3",
   "version": "3.11.5"
  },
  "vscode": {
   "interpreter": {
    "hash": "a55db4a81096f98f171b2d4aa45db364de6e7b9d6f8a4961a1c0f5f185f78e3c"
   }
  }
 },
 "nbformat": 4,
 "nbformat_minor": 4
}
