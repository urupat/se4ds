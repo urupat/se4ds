{
 "cells": [
  {
   "attachments": {},
   "cell_type": "markdown",
   "metadata": {},
   "source": [
    "# 3章 データ構造\n",
    "\n",
    "## 3.4 pandas\n",
    "\n",
    "### 3.4.1　DataFrameの機能"
   ]
  },
  {
   "cell_type": "code",
   "execution_count": null,
   "metadata": {},
   "outputs": [],
   "source": [
    "import pandas as pd"
   ]
  },
  {
   "cell_type": "code",
   "execution_count": null,
   "metadata": {},
   "outputs": [],
   "source": [
    "usa_data = pd.Series(\n",
    "    [13.33, 14.02, 14.02, 14.25], index=[\"2000\", \"2001\", \"2002\", \"2003\"]\n",
    ")"
   ]
  },
  {
   "cell_type": "code",
   "execution_count": null,
   "metadata": {},
   "outputs": [],
   "source": [
    "usa_data"
   ]
  },
  {
   "cell_type": "code",
   "execution_count": null,
   "metadata": {},
   "outputs": [],
   "source": [
    "india_data = pd.Series([9.02, 9.01, 8.84, 8.84], index=[\"2000\", \"2001\", \"2002\", \"2003\"])"
   ]
  },
  {
   "cell_type": "code",
   "execution_count": null,
   "metadata": {},
   "outputs": [],
   "source": [
    "df = pd.DataFrame({\"USA\": usa_data, \"India\": india_data})"
   ]
  },
  {
   "cell_type": "code",
   "execution_count": null,
   "metadata": {},
   "outputs": [],
   "source": [
    "df"
   ]
  },
  {
   "attachments": {},
   "cell_type": "markdown",
   "metadata": {},
   "source": [
    "### DataFrameのパフォーマンス"
   ]
  },
  {
   "cell_type": "markdown",
   "metadata": {},
   "source": [
    "##### メモ `pip install openpyxl`が必要"
   ]
  },
  {
   "cell_type": "code",
   "execution_count": null,
   "metadata": {},
   "outputs": [],
   "source": [
    "df = pd.read_excel(\"../data/SG_GEN_PARL.xlsx\")\n",
    "df = df.drop(\n",
    "    [\n",
    "        \"Goal\",\n",
    "        \"Target\",\n",
    "        \"Indicator\",\n",
    "        \"SeriesCode\",\n",
    "        \"SeriesDescription\",\n",
    "        \"GeoAreaCode\",\n",
    "        \"Reporting Type\",\n",
    "        \"Sex\",\n",
    "        \"Units\",\n",
    "    ],\n",
    "    axis=1,\n",
    ")\n",
    "df = df.set_index(\"GeoAreaName\").transpose()"
   ]
  },
  {
   "cell_type": "code",
   "execution_count": null,
   "metadata": {},
   "outputs": [],
   "source": [
    "df"
   ]
  },
  {
   "cell_type": "code",
   "execution_count": null,
   "metadata": {},
   "outputs": [],
   "source": [
    "%%timeit\n",
    "df[\"India_fraction\"] = df[\"India\"] / 100"
   ]
  },
  {
   "cell_type": "code",
   "execution_count": null,
   "metadata": {},
   "outputs": [],
   "source": [
    "%%timeit\n",
    "df[\"India_fraction\"] = df[\"India\"].apply(lambda x: x / 100)"
   ]
  },
  {
   "cell_type": "code",
   "execution_count": null,
   "metadata": {},
   "outputs": [],
   "source": [
    "%%timeit\n",
    "df[\"India_fraction\"] = [row[\"India\"] / 100 for index, row in df.iterrows()]"
   ]
  }
 ],
 "metadata": {
  "kernelspec": {
   "display_name": "Python 3 (ipykernel)",
   "language": "python",
   "name": "python3"
  },
  "language_info": {
   "codemirror_mode": {
    "name": "ipython",
    "version": 3
   },
   "file_extension": ".py",
   "mimetype": "text/x-python",
   "name": "python",
   "nbconvert_exporter": "python",
   "pygments_lexer": "ipython3",
   "version": "3.13.7"
  }
 },
 "nbformat": 4,
 "nbformat_minor": 4
}
