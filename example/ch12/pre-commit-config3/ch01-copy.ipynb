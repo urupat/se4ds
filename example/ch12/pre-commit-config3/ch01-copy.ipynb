{
 "cells": [
  {
   "cell_type": "markdown",
   "metadata": {},
   "source": [
    "# 1章 良いコードとは何か？"
   ]
  },
  {
   "cell_type": "markdown",
   "metadata": {},
   "source": [
    "### 1.3.1　同じことを繰り返さない（DRY）"
   ]
  },
  {
   "cell_type": "code",
   "execution_count": null,
   "metadata": {},
   "outputs": [],
   "source": [
    "import pandas as pd\n",
    "\n",
    "df = pd.read_csv(\"sdg_literacy_rate.csv\")\n",
    "df = df.drop([\"Series Name\", \"Series Code\", \"Country Code\"], axis=1)\n",
    "df = df.set_index(\"Country Name\").transpose()\n",
    "\n",
    "df2 = pd.read_csv(\"sdg_electricity_data.csv\")\n",
    "df2 = df2.drop([\"Series Name\", \"Series Code\", \"Country Code\"], axis=1)\n",
    "df2 = df2.set_index(\"Country Name\").transpose()\n",
    "\n",
    "df3 = pd.read_csv(\"sdg_urban_population.csv\")\n",
    "df3 = df3.drop([\"Series Name\", \"Series Code\", \"Country Code\"], axis=1)\n",
    "df3 = df3.set_index(\"Country Name\").transpose()\n"
   ]
  },
  {
   "cell_type": "code",
   "execution_count": null,
   "metadata": {},
   "outputs": [],
   "source": []
  },
  {
   "cell_type": "code",
   "execution_count": null,
   "metadata": {},
   "outputs": [],
   "source": [
    "df = pd.read_csv(\"sdg_literacy_rate.csv\")\n",
    "df = df.drop([\"Series Name\", \"Series Code\", \"Country Code\"], axis=1)\n",
    "df = df.set_index(\"Country Name\").transpose()"
   ]
  },
  {
   "cell_type": "code",
   "execution_count": null,
   "metadata": {},
   "outputs": [],
   "source": [
    "df.head()"
   ]
  },
  {
   "cell_type": "code",
   "execution_count": null,
   "metadata": {},
   "outputs": [],
   "source": [
    "df2 = pd.read_csv(\"sdg_electricity_data.csv\")\n",
    "df2 = df2.drop([\"Series Name\", \"Series Code\", \"Country Code\"], axis=1)\n",
    "df2 = df2.set_index(\"Country Name\").transpose()"
   ]
  },
  {
   "cell_type": "code",
   "execution_count": null,
   "metadata": {},
   "outputs": [],
   "source": [
    "df3 = pd.read_csv(\"sdg_urban_population.csv\")\n",
    "df3 = df3.drop([\"Series Name\", \"Series Code\", \"Country Code\"], axis=1)\n",
    "df3 = df3.set_index(\"Country Name\").transpose()"
   ]
  },
  {
   "cell_type": "markdown",
   "metadata": {},
   "source": [
    "繰り返しのコードをforループの中に入れる"
   ]
  },
  {
   "cell_type": "code",
   "execution_count": null,
   "metadata": {},
   "outputs": [],
   "source": [
    "def process_sdg_data(csv_file, columns_to_drop):\n",
    "    df = pd.read_csv(csv_file)\n",
    "    df = df.drop(columns_to_drop, axis=1)\n",
    "    df = df.set_index(\"Country Name\").transpose()\n",
    "    return df"
   ]
  },
  {
   "cell_type": "code",
   "execution_count": null,
   "metadata": {},
   "outputs": [],
   "source": [
    "df = process_sdg_data(\"sdg_literacy_rate.csv\", [\"Series Name\", \"Series Code\", \"Country Code\"])"
   ]
  },
  {
   "cell_type": "code",
   "execution_count": null,
   "metadata": {},
   "outputs": [],
   "source": [
    "df.head()"
   ]
  }
 ],
 "metadata": {
  "kernelspec": {
   "display_name": "Python 3 (ipykernel)",
   "language": "python",
   "name": "python3"
  },
  "language_info": {
   "codemirror_mode": {
    "name": "ipython",
    "version": 3
   },
   "file_extension": ".py",
   "mimetype": "text/x-python",
   "name": "python",
   "nbconvert_exporter": "python",
   "pygments_lexer": "ipython3",
   "version": "3.11.5"
  }
 },
 "nbformat": 4,
 "nbformat_minor": 4
}
