{
 "cells": [
  {
   "cell_type": "markdown",
   "id": "7d1b60b7-4ec4-45d0-a60e-ad9f2a563065",
   "metadata": {},
   "source": [
    "# 第9章 ドキュメンテーション"
   ]
  },
  {
   "cell_type": "markdown",
   "id": "2f0fa891-3aa1-4c0f-8b61-e227c6d04436",
   "metadata": {},
   "source": [
    "### 9.1.1 ネーミング"
   ]
  },
  {
   "cell_type": "code",
   "execution_count": null,
   "id": "3212d200-480a-42ab-af7d-ae168348515e",
   "metadata": {},
   "outputs": [],
   "source": [
    "list = [0, 2, 4]\n",
    "empty_list = list()"
   ]
  },
  {
   "cell_type": "markdown",
   "id": "c47a242f-d88e-4402-8b20-885258ccba0a",
   "metadata": {},
   "source": [
    "### 9.1.3　docstring"
   ]
  },
  {
   "cell_type": "code",
   "execution_count": null,
   "id": "0b737066-e2e6-4fca-aef3-b3dd125b1c2a",
   "metadata": {},
   "outputs": [],
   "source": [
    "import pandas as pd\n",
    "from scipy.stats import linregress\n",
    "\n",
    "def fit_trendline(year_timestamps, data):\n",
    "    result = linregress(year_timestamps, data)\n",
    "    slope = round(result.slope, 3)\n",
    "    r_squared = round(result.rvalue**2, 3)\n",
    "    return slope, r_squared\n",
    "\n",
    "def process_sdg_data(input_excel_file, columns_to_drop):\n",
    "    df = pd.read_excel(input_excel_file)\n",
    "    df = df.drop(columns_to_drop, axis=1)\n",
    "    df = df.set_index(\"GeoAreaName\").transpose()\n",
    "    return df\n",
    "\n",
    "df = process_sdg_data(\n",
    "    \"../data/SG_GEN_PARL.xlsx\",\n",
    "    [\n",
    "        \"Goal\",\n",
    "        \"Target\",\n",
    "        \"Indicator\",\n",
    "        \"SeriesCode\",\n",
    "        \"SeriesDescription\",\n",
    "        \"GeoAreaCode\",\n",
    "        \"Reporting Type\",\n",
    "        \"Sex\",\n",
    "        \"Units\",\n",
    "    ],\n",
    ")\n",
    "timestamps = [int(i) for i in df.index.tolist()]\n",
    "country_data = df[\"India\"].tolist()\n",
    "slope, r_squared = fit_trendline(timestamps, country_data)"
   ]
  },
  {
   "cell_type": "code",
   "execution_count": null,
   "id": "85214541-cf13-44d4-bd1d-66a1a31d1c9e",
   "metadata": {},
   "outputs": [],
   "source": [
    "help(df.head)"
   ]
  },
  {
   "cell_type": "code",
   "execution_count": null,
   "id": "bb62317e-f6c8-4329-b83e-42d299f42350",
   "metadata": {},
   "outputs": [],
   "source": [
    "pd.DataFrame.head?"
   ]
  },
  {
   "cell_type": "markdown",
   "id": "72c7cc05-97f0-4b87-b899-042e4234e250",
   "metadata": {},
   "source": [
    "# 1. トップレベルの見出し\n",
    "## 1.1 第2レベルの見出し\n",
    "### 1.1.1 第3レベルの見出し"
   ]
  },
  {
   "cell_type": "code",
   "execution_count": null,
   "id": "934a45c3-65a7-4fdf-9ccf-35219883f14d",
   "metadata": {},
   "outputs": [],
   "source": []
  }
 ],
 "metadata": {
  "kernelspec": {
   "display_name": "Python 3 (ipykernel)",
   "language": "python",
   "name": "python3"
  },
  "language_info": {
   "codemirror_mode": {
    "name": "ipython",
    "version": 3
   },
   "file_extension": ".py",
   "mimetype": "text/x-python",
   "name": "python",
   "nbconvert_exporter": "python",
   "pygments_lexer": "ipython3",
   "version": "3.13.7"
  }
 },
 "nbformat": 4,
 "nbformat_minor": 5
}
