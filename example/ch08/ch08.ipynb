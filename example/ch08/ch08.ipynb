{
 "cells": [
  {
   "cell_type": "markdown",
   "metadata": {},
   "source": [
    "# 第８章 デザインとリファクタリング"
   ]
  },
  {
   "cell_type": "markdown",
   "metadata": {},
   "source": [
    "## 8.2　コードのデザイン\n",
    "### 8.2.4　結合度 "
   ]
  },
  {
   "cell_type": "code",
   "execution_count": 7,
   "metadata": {},
   "outputs": [],
   "source": [
    "# 密結合している2つの関数の例\n",
    "import pandas as pd\n",
    "from scipy.stats import linregress\n",
    "\n",
    "\n",
    "def process_sdg_data(input_excel_file, columns_to_drop):\n",
    "    df = pd.read_excel(input_excel_file)\n",
    "    df = df.drop(columns_to_drop, axis=1)\n",
    "    df = df.set_index(\"GeoAreaName\").transpose()\n",
    "    return df\n",
    "\n",
    "\n",
    "def fit_trendline(country_name):\n",
    "    df = process_sdg_data(\n",
    "        \"../data/SG_GEN_PARL.xlsx\",\n",
    "        [\n",
    "            \"Goal\",\n",
    "            \"Target\",\n",
    "            \"Indicator\",\n",
    "            \"SeriesCode\",\n",
    "            \"SeriesDescription\",\n",
    "            \"GeoAreaCode\",\n",
    "            \"Reporting Type\",\n",
    "            \"Sex\",\n",
    "            \"Units\",\n",
    "        ],\n",
    "    )\n",
    "    timestamps = [int(i) for i in df.index.tolist()]\n",
    "    data = df[country_name].tolist()\n",
    "\n",
    "    result = linregress(timestamps, data)\n",
    "    slope = round(result.slope, 3)\n",
    "    r_squared = round(result.rvalue**2, 3)\n",
    "    return slope, r_squared"
   ]
  },
  {
   "cell_type": "code",
   "execution_count": 8,
   "metadata": {},
   "outputs": [
    {
     "data": {
      "text/plain": [
       "(np.float64(0.292), np.float64(0.869))"
      ]
     },
     "execution_count": 8,
     "metadata": {},
     "output_type": "execute_result"
    }
   ],
   "source": [
    "fit_trendline(\"India\")"
   ]
  },
  {
   "cell_type": "code",
   "execution_count": 9,
   "metadata": {},
   "outputs": [],
   "source": [
    "# 密結合でない（疎結合な）例\n",
    "\n",
    "import pandas as pd\n",
    "from scipy.stats import linregress\n",
    "\n",
    "\n",
    "def fit_trendline(year_timestamps, data):\n",
    "    result = linregress(year_timestamps, data)\n",
    "    slope = round(result.slope, 3)\n",
    "    r_squared = round(result.rvalue**2, 3)\n",
    "    return slope, r_squared\n",
    "\n",
    "\n",
    "def process_sdg_data(input_excel_file, columns_to_drop):\n",
    "    df = pd.read_excel(input_excel_file)\n",
    "    df = df.drop(columns_to_drop, axis=1)\n",
    "    df = df.set_index(\"GeoAreaName\").transpose()\n",
    "    return df\n",
    "\n",
    "\n",
    "df = process_sdg_data(\n",
    "    \"../data/SG_GEN_PARL.xlsx\",\n",
    "    [\n",
    "        \"Goal\",\n",
    "        \"Target\",\n",
    "        \"Indicator\",\n",
    "        \"SeriesCode\",\n",
    "        \"SeriesDescription\",\n",
    "        \"GeoAreaCode\",\n",
    "        \"Reporting Type\",\n",
    "        \"Sex\",\n",
    "        \"Units\",\n",
    "    ],\n",
    ")\n",
    "timestamps = [int(i) for i in df.index.tolist()]\n",
    "country_data = df[\"India\"].tolist()\n",
    "slope, r_squared = fit_trendline(timestamps, country_data)"
   ]
  },
  {
   "cell_type": "code",
   "execution_count": 12,
   "metadata": {},
   "outputs": [
    {
     "data": {
      "text/plain": [
       "np.float64(0.292)"
      ]
     },
     "execution_count": 12,
     "metadata": {},
     "output_type": "execute_result"
    }
   ],
   "source": [
    "slope"
   ]
  },
  {
   "cell_type": "markdown",
   "metadata": {},
   "source": [
    "## 8.3　ノートブックからスケーラブルなスクリプトへ\n",
    "### 8.3.2　ノートブックからスクリプトの作成"
   ]
  },
  {
   "cell_type": "code",
   "execution_count": 13,
   "metadata": {},
   "outputs": [],
   "source": [
    "import pandas as pd"
   ]
  },
  {
   "cell_type": "code",
   "execution_count": 14,
   "metadata": {},
   "outputs": [],
   "source": [
    "def process_sdg_data(input_excel_file, columns_to_drop, output_csv_file):\n",
    "    df = pd.read_excel(input_excel_file)\n",
    "    df = df.drop(columns_to_drop, axis=1)\n",
    "    df = df.set_index(\"GeoAreaName\").transpose()\n",
    "    df.to_csv(output_csv_file, index=\"GeoAreaName\")"
   ]
  },
  {
   "cell_type": "code",
   "execution_count": 16,
   "metadata": {},
   "outputs": [],
   "source": [
    "import os\n",
    "\n",
    "\n",
    "def test_process_sdg_data():\n",
    "\n",
    "    test_filepath = \"test_sgd_data.csv\"\n",
    "\n",
    "    process_sdg_data(\n",
    "        \"SG_GEN_PARL.xlsx\",\n",
    "        [\n",
    "            \"Goal\",\n",
    "            \"Target\",\n",
    "            \"Indicator\",\n",
    "            \"SeriesCode\",\n",
    "            \"SeriesDescription\",\n",
    "            \"GeoAreaCode\",\n",
    "            \"Reporting Type\",\n",
    "            \"Sex\",\n",
    "            \"Units\",\n",
    "        ],\n",
    "        test_filepath,\n",
    "    )\n",
    "\n",
    "    df = pd.read_csv(test_filepath)\n",
    "\n",
    "    assert len(df) == 24\n",
    "    assert len(df.columns) == 196\n",
    "\n",
    "    # cleanup step - delete the file produced in the test\n",
    "    os.remove(test_filepath)"
   ]
  },
  {
   "cell_type": "code",
   "execution_count": 17,
   "metadata": {},
   "outputs": [],
   "source": [
    "test_process_sdg_data()"
   ]
  },
  {
   "cell_type": "code",
   "execution_count": null,
   "metadata": {},
   "outputs": [],
   "source": []
  }
 ],
 "metadata": {
  "kernelspec": {
   "display_name": "Python 3 (ipykernel)",
   "language": "python",
   "name": "python3"
  },
  "language_info": {
   "codemirror_mode": {
    "name": "ipython",
    "version": 3
   },
   "file_extension": ".py",
   "mimetype": "text/x-python",
   "name": "python",
   "nbconvert_exporter": "python",
   "pygments_lexer": "ipython3",
   "version": "3.11.5"
  }
 },
 "nbformat": 4,
 "nbformat_minor": 4
}
